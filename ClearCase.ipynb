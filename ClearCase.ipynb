{
 "cells": [
  {
   "cell_type": "markdown",
   "metadata": {},
   "source": [
    "# ClearCase Training\n",
    "\n",
    "This file is made with the scope of helping me undesrtand ClearCase. Long story short it's a file management tool on top of git developed in UNIX and ported to windows. Uses cleartools command line in order to automate tasks and create scripts (There must be a python overload). Looks old :)).\n",
    "\n",
    "For more info check:\n",
    "> https://flylib.com/books/en/2.615.1.20/1/\n",
    "\n",
    "## What is ClearCase?\n",
    "\n",
    "![Rational ClearCase](./ClearCase.png \"Clear Case\") \\\n",
    "Rational ClearCase is a family of computer software tools that supports software configuration management (SCM) of source code and other software development assets. It also supports design-data management of electronic design artifacts, thus enabling hardware and software co-development. ClearCase includes [revision control](https://en.wikipedia.org/wiki/Version_control) and forms the basis for configuration management at large and medium-sized businesses, accommodating projects with hundreds or thousands of developers. It is developed by IBM.\n",
    "\n",
    "ClearCase essentially comes in two flavors: Base ClearCase and Unified Change Management (UCM). Base ClearCase is the traditional method of ClearCase implementation; essentially it gives you a set of building blocks to define your own usage model. With a Base ClearCase implementation you must explicitly define the project's usage model via branches, labels, and other metadata types, and you have to manually (or via scripts) configure the user's workspaces to pick them up. UCM, on the other hand, is a predefined (but still customizable) ClearCase usage model. It is based on SCM best practices, and it hides (to a certain degree) the underlying metadata that is required to be implemented for a Base ClearCase process.\n",
    "\n",
    "## What Is a VOB?\n",
    "\n",
    "The ClearCase Versioned Object Base (VOB) is a read-only repository for versioned files and directories, which in ClearCase are called elements. Essentially, a VOB is a database of element versions that maintains history and metadata about these file system elements as they evolve over time. ClearCase manages all access to its VOBs. All users access the data in a VOB via a workspace (called a view) configured to look into it. A development project may encompass multiple VOBs.\n",
    "\n",
    "A ClearCase element is a versioned object that resides in a VOB. "
   ]
  },
  {
   "cell_type": "markdown",
   "metadata": {},
   "source": []
  },
  {
   "cell_type": "code",
   "execution_count": null,
   "metadata": {},
   "outputs": [],
   "source": []
  }
 ],
 "metadata": {
  "kernelspec": {
   "display_name": "Python 3.10.7 64-bit",
   "language": "python",
   "name": "python3"
  },
  "language_info": {
   "name": "python",
   "version": "3.10.7"
  },
  "orig_nbformat": 4,
  "vscode": {
   "interpreter": {
    "hash": "bcbb6e33eebbf93a3e200c8fb8c30632b5f8dee1236a8690a416d1a9e43d9cb4"
   }
  }
 },
 "nbformat": 4,
 "nbformat_minor": 2
}
